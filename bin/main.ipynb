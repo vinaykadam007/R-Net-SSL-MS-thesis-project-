{
 "cells": [
  {
   "cell_type": "code",
   "execution_count": null,
   "metadata": {},
   "outputs": [],
   "source": [
    "\n",
    "import vtk\n",
    "import slicer\n",
    "\n",
    "\n",
    "\n",
    "reader=vtk.vtkXMLImageDataReader()\n",
    "# fileDirec = input(\"Please enter the directory of your vtk file >>> \")\n",
    "# fileDirec = fileDirec.replace(\"\\\\\", \"/\")\n",
    "# fileName = input(\"Please enter the case sensitive filename of your vti file without the extension? >>> \")\n",
    "fileName = \"unity.vti\"\n",
    "# fileDirec = fileDirec + \"/\" + fileName\n",
    "# print(fileDirec)\n",
    "reader.SetFileName(fileName)\n",
    "reader.Update()\n",
    "imageData = reader.GetOutput()\n",
    "spacing = imageData.GetSpacing()\n",
    "origin = imageData.GetOrigin()\n",
    "imageData.SetOrigin(0,0,0)\n",
    "imageData.SetSpacing(1,1,1)\n",
    "volumeNode=slicer.mrmlScene.AddNewNodeByClass(\"vtkMRMLScalarVolumeNode\")\n",
    "volumeNode.SetAndObserveImageData(imageData)\n",
    "volumeNode.SetSpacing(spacing)\n",
    "volumeNode.SetOrigin(origin)\n",
    "slicer.util.setSliceViewerLayers(volumeNode, fit=True)\n",
    "print(type(volumeNode))\n",
    " \n",
    "# Create temporary labelmap\n",
    "labelVolumeNode = slicer.mrmlScene.AddNewNodeByClass(\"vtkMRMLLabelMapVolumeNode\")\n",
    "\n",
    "slicer.vtkSlicerVolumesLogic().CreateLabelVolumeFromVolume(slicer.mrmlScene, labelVolumeNode,volumeNode)\n",
    " \n",
    "# # # Fill temporary labelmap\n",
    "voxelArray = slicer.util.arrayFromVolume(volumeNode)\n",
    "labelVoxelArray = slicer.util.arrayFromVolume(labelVolumeNode)\n",
    "slicer.util.arrayFromVolumeModified(labelVolumeNode)\n",
    " \n",
    "# # Import labelmap to segmentation\n",
    "segmentationNode = slicer.mrmlScene.AddNewNodeByClass('vtkMRMLSegmentationNode')\n",
    "slicer.modules.segmentations.logic().ImportLabelmapToSegmentationNode(labelVolumeNode, segmentationNode)\n",
    "segmentationNode.CreateClosedSurfaceRepresentation()\n",
    " \n",
    "volumeNode = segmentationNode\n",
    "print(type(volumeNode))\n",
    " \n",
    "# direc = input(\"Please enter the path of where you want to save your OBJ file to >>> \")\n",
    " \n",
    "slicer.vtkSlicerSegmentationsModuleLogic.ExportSegmentsClosedSurfaceRepresentationToFiles(\"obj\", volumeNode, None, \"OBJ\" )\n",
    " \n",
    "#slicer.vtkSlicerSegmentationsModuleLogic.ExportSegmentsClosedSurfaceRepresentationToFiles(\"stl tests\", volumeNode, None, \"STL\" )\n",
    " \n"
   ]
  },
  {
   "cell_type": "code",
   "execution_count": null,
   "metadata": {},
   "outputs": [],
   "source": []
  }
 ],
 "metadata": {
  "kernelspec": {
   "display_name": "Slicer 4.11",
   "language": "python",
   "name": "slicer-4.11"
  },
  "language_info": {
   "file_extension": ".py",
   "mimetype": "text/x-python",
   "name": "python",
   "version": "3.6.7"
  }
 },
 "nbformat": 4,
 "nbformat_minor": 4
}
